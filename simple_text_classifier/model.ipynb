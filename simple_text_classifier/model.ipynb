{
 "cells": [
  {
   "cell_type": "markdown",
   "metadata": {},
   "source": [
    "## Importing all libraries\n"
   ]
  },
  {
   "cell_type": "code",
   "execution_count": 1,
   "metadata": {},
   "outputs": [
    {
     "name": "stderr",
     "output_type": "stream",
     "text": [
      "/home/veer/Documents/model-hub/simple_text_classifier/venv/lib/python3.11/site-packages/tqdm/auto.py:22: TqdmWarning: IProgress not found. Please update jupyter and ipywidgets. See https://ipywidgets.readthedocs.io/en/stable/user_install.html\n",
      "  from .autonotebook import tqdm as notebook_tqdm\n"
     ]
    }
   ],
   "source": [
    "import os\n",
    "import pathlib\n",
    "import numpy as np\n",
    "import string\n",
    "import glob\n",
    "import re\n",
    "import torch\n",
    "import torch.nn as nn\n",
    "import torch.nn.functional as F\n",
    "import torch.optim as optim\n",
    "import matplotlib.pyplot as plt\n",
    "from tqdm.auto import tqdm\n",
    "from collections import Counter\n",
    "from torch.utils.data import DataLoader, Dataset, Subset\n",
    "\n",
    "plt.style.use(\"ggplot\")"
   ]
  },
  {
   "cell_type": "markdown",
   "metadata": {},
   "source": [
    "### Setting seeds for reproducibility\n"
   ]
  },
  {
   "cell_type": "code",
   "execution_count": 2,
   "metadata": {},
   "outputs": [],
   "source": [
    "def set_seed(seed=1234):\n",
    "    np.random.seed(seed)\n",
    "    torch.manual_seed(seed)\n",
    "    torch.cuda.manual_seed(seed)\n",
    "    # for multiple gpus\n",
    "    torch.cuda.manual_seed_all(seed)\n",
    "    torch.backends.cudnn.deterministic = True\n",
    "    torch.backends.cudnn.benchmark = True\n",
    "\n",
    "\n",
    "set_seed()"
   ]
  },
  {
   "cell_type": "code",
   "execution_count": 3,
   "metadata": {},
   "outputs": [],
   "source": [
    "OUTPUT_DIR = os.path.join(\"outputs\", \"imdb_movie_review_embedding\")\n",
    "os.makedirs(OUTPUT_DIR, exist_ok=True)"
   ]
  },
  {
   "cell_type": "code",
   "execution_count": 4,
   "metadata": {},
   "outputs": [
    {
     "name": "stdout",
     "output_type": "stream",
     "text": [
      "The dataset directory is input/aclImdb/aclImdb\n",
      "The train directory is input/aclImdb/aclImdb/train\n"
     ]
    }
   ],
   "source": [
    "data_dir = os.path.join(\"input\", \"aclImdb\")\n",
    "dataset_dir = os.path.join(data_dir, \"aclImdb\")\n",
    "train_dir = os.path.join(dataset_dir, \"train\")\n",
    "print(f\"The dataset directory is {dataset_dir}\")\n",
    "print(f\"The train directory is {train_dir}\")"
   ]
  },
  {
   "cell_type": "markdown",
   "metadata": {},
   "source": [
    "### Preprocessing\n"
   ]
  },
  {
   "cell_type": "code",
   "execution_count": 17,
   "metadata": {},
   "outputs": [],
   "source": [
    "def find_longest_length(text_file_paths):\n",
    "    \"\"\"\n",
    "    Find the longest review length in the entire training set.\n",
    "    \"\"\"\n",
    "    longest = 0\n",
    "    for path in text_file_paths:\n",
    "        with open(path, \"r\") as f:\n",
    "            text = f.read()\n",
    "            # Remove <br> tags.\n",
    "            text = re.sub(\"<[^>]+>+\", \"\", text)\n",
    "            corpus = [word for word in text.split()]\n",
    "        if len(corpus) > longest:\n",
    "            longest = len(corpus)\n",
    "    return longest"
   ]
  },
  {
   "cell_type": "code",
   "execution_count": 18,
   "metadata": {},
   "outputs": [
    {
     "name": "stdout",
     "output_type": "stream",
     "text": [
      "Longest review length: 2450 words\n"
     ]
    }
   ],
   "source": [
    "file_paths = []\n",
    "file_paths.extend(glob.glob(os.path.join(dataset_dir, \"train\", \"pos\", \"*.txt\")))\n",
    "file_paths.extend(glob.glob(os.path.join(dataset_dir, \"train\", \"neg\", \"*.txt\")))\n",
    "longest_sentence_length = find_longest_length(file_paths)\n",
    "print(f\"Longest review length: {longest_sentence_length} words\")"
   ]
  },
  {
   "cell_type": "code",
   "execution_count": 42,
   "metadata": {},
   "outputs": [],
   "source": [
    "def find_avg_length(text_file_paths):\n",
    "    \"\"\"\n",
    "    Find the average review size in the training\n",
    "    \"\"\"\n",
    "    all_lens = []\n",
    "    for path in text_file_paths:\n",
    "        with open(path, \"r\") as f:\n",
    "            text = f.read()\n",
    "            # Remove <br> tag\n",
    "            text = re.sub(\"<[^>]+>+\", \"\", text)\n",
    "            corpus = [word for word in text.split()]\n",
    "        all_lens.append(len(corpus))\n",
    "    np_array = np.array(all_lens)\n",
    "    return np.mean(np_array)"
   ]
  },
  {
   "cell_type": "code",
   "execution_count": 44,
   "metadata": {},
   "outputs": [
    {
     "name": "stdout",
     "output_type": "stream",
     "text": [
      "Average review length: 232.76296 words\n"
     ]
    }
   ],
   "source": [
    "file_paths = []\n",
    "file_paths.extend(glob.glob(os.path.join(dataset_dir, \"train\", \"pos\", \"*.txt\")))\n",
    "file_paths.extend(glob.glob(os.path.join(data_dir, \"train\", \"neg\", \"*.txt\")))\n",
    "average_length = find_avg_length(file_paths)\n",
    "print(f\"Average review length: {average_length} words\")"
   ]
  },
  {
   "cell_type": "markdown",
   "metadata": {},
   "source": [
    "### Defining some general hyper parameters\n"
   ]
  },
  {
   "cell_type": "code",
   "execution_count": 72,
   "metadata": {},
   "outputs": [],
   "source": [
    "MAX_LEN = int(longest_sentence_length)\n",
    "NUM_WORDS = -1\n",
    "BATCH_SIZE = 512\n",
    "VALID_SPLIT = 0.25"
   ]
  },
  {
   "cell_type": "code",
   "execution_count": 73,
   "metadata": {},
   "outputs": [],
   "source": [
    "def find_word_frequency(text_file_paths, most_common=None):\n",
    "    \"\"\"\n",
    "    Returns a list of tuples, (<word>,<frequency>)\n",
    "    \"\"\"\n",
    "    corpus = []\n",
    "    for path in text_file_paths:\n",
    "        with open(path, \"r\") as f:\n",
    "            text = f.read()\n",
    "            text = re.sub(\"<^>+>+\", \"\", text)\n",
    "            corpus.extend([word for word in text.split()])\n",
    "    count_words = Counter(corpus)\n",
    "    word_frequency = count_words.most_common(n=most_common)\n",
    "    return word_frequency"
   ]
  },
  {
   "cell_type": "code",
   "execution_count": 74,
   "metadata": {},
   "outputs": [],
   "source": [
    " def word2int(input_words, num_words):\n",
    "    \"\"\"\n",
    "        int_mapping: A dictionary of word and a integer mapping as \n",
    "            key-value pair. Example, {'Hello,': 1, 'the': 2, 'let': 3}\n",
    "    \"\"\"\n",
    "    if num_words > -1:\n",
    "        int_mapping = {\n",
    "            w:i+1 for i, (w, c) in enumerate(input_words) \\\n",
    "                if i <= num_words - 1 # -1 to avoid getting (num_words + 1) integer mapping.\n",
    "        }\n",
    "    else:\n",
    "        int_mapping = {w:i+1 for i, (w, c) in enumerate(input_words)}\n",
    "    return int_mapping"
   ]
  },
  {
   "cell_type": "markdown",
   "metadata": {},
   "source": [
    "### Creating a pytorch dataset\n"
   ]
  },
  {
   "cell_type": "code",
   "execution_count": 83,
   "metadata": {},
   "outputs": [],
   "source": [
    "class ClassificationDataset(Dataset):\n",
    "    def __init__(self, file_paths, word_frequency, int_mapping, max_len) -> None:\n",
    "        self.word_frequency = word_frequency\n",
    "        self.int_mapping = int_mapping\n",
    "        self.max_len = max_len\n",
    "        self.file_paths = file_paths\n",
    "\n",
    "    def standardize_text(self, input_text: str) -> str:\n",
    "        text = input_text.lower()\n",
    "        text = re.sub(r\"<^>+>+\", \"\", text)\n",
    "        text = \"\".join(\n",
    "            [character for character in text if character not in string.punctuation]\n",
    "        )\n",
    "        return text\n",
    "\n",
    "    def return_int_vector(self, int_mapping, text_file_path):\n",
    "        \"\"\"\n",
    "        Map word to int in list\n",
    "        \"\"\"\n",
    "        with open(text_file_path, \"r\") as f:\n",
    "            text = f.read()\n",
    "            text = self.standardize_text(text)\n",
    "            corpus = [word for word in text.split()]\n",
    "        int_vector = [int_mapping[word] for word in text.split() if word in int_mapping]\n",
    "        return int_vector\n",
    "\n",
    "    def pad_features(self, int_vector, max_len):\n",
    "        \"\"\"\n",
    "        Return features of `int_vector`, where each vector is padded\n",
    "        with 0's or truncated to the input seq_length. Return as Numpy\n",
    "        array.\n",
    "        \"\"\"\n",
    "        features = np.zeros((1, max_len), dtype=int)\n",
    "        if len(int_vector) <= max_len:\n",
    "            zeros = list(np.zeros(max_len - len(int_vector)))\n",
    "            new = zeros + int_vector\n",
    "        else:\n",
    "            new = int_vector[:max_len]\n",
    "        features = np.array(new)\n",
    "        return features\n",
    "\n",
    "    def encode_labels(self, text_file_path):\n",
    "        file_path = pathlib.Path(text_file_path)\n",
    "        class_label = str(file_path).split(os.path.sep)[-2]\n",
    "        if class_label == \"pos\":\n",
    "            int_label = 1\n",
    "        else:\n",
    "            int_label = 0\n",
    "        return int_label\n",
    "\n",
    "    def __len__(self):\n",
    "        return len(self.file_paths)\n",
    "\n",
    "    def __getitem__(self, idx):\n",
    "        file_path = self.file_paths[idx]\n",
    "        int_vector = self.return_int_vector(self.int_mapping, file_path)\n",
    "        padded_features = self.pad_features(int_vector, self.max_len)\n",
    "        label = self.encode_labels(file_path)\n",
    "        return {\n",
    "            \"text\": torch.tensor(padded_features, dtype=torch.int32),\n",
    "            \"label\": torch.tensor(label, dtype=torch.long),\n",
    "        }"
   ]
  },
  {
   "cell_type": "code",
   "execution_count": 84,
   "metadata": {},
   "outputs": [],
   "source": [
    "file_paths = []\n",
    "file_paths.extend(glob.glob(os.path.join(\n",
    "    dataset_dir, 'train', 'pos', '*.txt'\n",
    ")))\n",
    "file_paths.extend(glob.glob(os.path.join(\n",
    "    dataset_dir, 'train', 'neg', '*.txt'\n",
    ")))\n",
    "test_file_paths = []\n",
    "test_file_paths.extend(glob.glob(os.path.join(\n",
    "    dataset_dir, 'test', 'pos', '*.txt'\n",
    ")))\n",
    "test_file_paths.extend(glob.glob(os.path.join(\n",
    "    dataset_dir, 'test', 'neg', '*.txt'\n",
    ")))"
   ]
  },
  {
   "cell_type": "code",
   "execution_count": 85,
   "metadata": {},
   "outputs": [
    {
     "name": "stderr",
     "output_type": "stream",
     "text": [
      "IOPub data rate exceeded.\n",
      "The Jupyter server will temporarily stop sending output\n",
      "to the client in order to avoid crashing it.\n",
      "To change this limit, set the config variable\n",
      "`--ServerApp.iopub_data_rate_limit`.\n",
      "\n",
      "Current values:\n",
      "ServerApp.iopub_data_rate_limit=1000000.0 (bytes/sec)\n",
      "ServerApp.rate_limit_window=3.0 (secs)\n",
      "\n"
     ]
    }
   ],
   "source": [
    "word_frequency = find_word_frequency(file_paths)\n",
    "int_mapping = word2int(word_frequency, num_words=NUM_WORDS)\n",
    "print(f'The word freq is {word_frequency}')"
   ]
  },
  {
   "cell_type": "code",
   "execution_count": 86,
   "metadata": {},
   "outputs": [
    {
     "name": "stdout",
     "output_type": "stream",
     "text": [
      "Number of training samples: 18750\n",
      "Number of validation samples: 6250\n",
      "Number of test samples: 25000\n"
     ]
    }
   ],
   "source": [
    "dataset = ClassificationDataset(\n",
    "    file_paths, word_frequency, int_mapping, MAX_LEN\n",
    ")\n",
    "dataset_size = len(dataset)\n",
    "# Calculate the validation dataset size.\n",
    "valid_size = int(VALID_SPLIT*dataset_size)\n",
    "# Radomize the data indices.\n",
    "indices = torch.randperm(len(dataset)).tolist()\n",
    "# Training and validation sets.\n",
    "dataset_train = Subset(dataset, indices[:-valid_size])\n",
    "dataset_valid = Subset(dataset, indices[-valid_size:])\n",
    "dataset_test = ClassificationDataset(\n",
    "    test_file_paths, word_frequency, int_mapping, MAX_LEN\n",
    ")\n",
    "# dataset_valid = NLPClassificationDataset()\n",
    "print(f\"Number of training samples: {len(dataset_train)}\")\n",
    "print(f\"Number of validation samples: {len(dataset_valid)}\")\n",
    "print(f\"Number of test samples: {len(dataset_test)}\")"
   ]
  },
  {
   "cell_type": "code",
   "execution_count": 87,
   "metadata": {},
   "outputs": [
    {
     "name": "stdout",
     "output_type": "stream",
     "text": [
      " what a stunning episode for this fine series this is television excellence at its best the story takes place in 1968 and its beautifully filmed in black white almost a film noir style with its deep shadows and stark images this is a story about two men who fall in love but i dont want to spoil this it is a rare presentation of what homosexuals faced in the 1960s in america written by the superb tom and directed by the great we move through their lives their love for each other and their tragedy taking on such a sensitive issue makes this episode all the more stunning our emotions are as torn and on edge as the characters chills ran up my spine at the end when they played bob gorgeous ah but i was so much older then im younger than that now as sung by the this one goes far past a 10 and all the way to the stars beautiful\n",
      "#########################\n",
      "Label: Positive\n"
     ]
    }
   ],
   "source": [
    "int_to_word_train = {value: key for key, value in int_mapping.items()}\n",
    "inputs = ''\n",
    "for x in dataset_train[0]['text']:\n",
    "    if x != 0:\n",
    "        inputs += ' ' + int_to_word_train[int(x)]\n",
    "print(inputs)\n",
    "print('#'*25)\n",
    "if int(dataset_train[0]['label']) == 1:\n",
    "    label = 'Positive'\n",
    "else:\n",
    "    label = 'Negative'\n",
    "print('Label:', label)"
   ]
  },
  {
   "cell_type": "markdown",
   "metadata": {},
   "source": [
    "### Preparing the train and test data loader"
   ]
  },
  {
   "cell_type": "code",
   "execution_count": 88,
   "metadata": {},
   "outputs": [],
   "source": [
    "train_loader = DataLoader(\n",
    "    dataset_train, \n",
    "    batch_size=BATCH_SIZE,\n",
    "    shuffle=True, \n",
    "    num_workers=4\n",
    ")\n",
    "valid_loader = DataLoader(\n",
    "    dataset_valid, \n",
    "    batch_size=BATCH_SIZE,\n",
    "    shuffle=False, \n",
    "    num_workers=4\n",
    ")\n",
    "test_loader = DataLoader(\n",
    "    dataset_test, \n",
    "    batch_size=BATCH_SIZE,\n",
    "    shuffle=False,\n",
    "    num_workers=4\n",
    ")"
   ]
  },
  {
   "cell_type": "code",
   "execution_count": 89,
   "metadata": {},
   "outputs": [],
   "source": [
    "def binary_accuracy(labels, outputs, train_running_correct):\n",
    "    outputs = torch.sigmoid(outputs)\n",
    "    running_correct = 0\n",
    "    for i, label in enumerate(labels):\n",
    "        if label < 0.5 and outputs[i] < 0.5:\n",
    "            running_correct += 1\n",
    "        elif label >= 0.5 and outputs[i] >= 0.5:\n",
    "            running_correct += 1\n",
    "    return running_correct"
   ]
  },
  {
   "cell_type": "code",
   "execution_count": 90,
   "metadata": {},
   "outputs": [],
   "source": [
    "def train(model, trainloader, optimizer, criterion, device):\n",
    "    model.train()\n",
    "    print('Training........')\n",
    "    train_running_loss = 0.0\n",
    "    train_running_correct = 0\n",
    "    counter = 0\n",
    "    for i, data in tqdm(enumerate(trainloader), total=len(trainloader)):\n",
    "        counter += 1\n",
    "        inputs, labels = data['text'], data['label']\n",
    "        inputs = inputs.to(device)\n",
    "        labels = torch.tensor(labels, dtype=torch.float32).to(device)\n",
    "        optimizer.zero_grad()\n",
    "        outputs = model(inputs)\n",
    "        outputs = torch.squeeze(outputs, -1)\n",
    "        loss = criterion(outputs, labels)\n",
    "        train_running_loss += loss.item()\n",
    "        running_correct = binary_accuracy(\n",
    "            labels, outputs, train_running_correct\n",
    "        )\n",
    "        train_running_correct += running_correct\n",
    "        loss.backward()\n",
    "        optimizer.step()\n",
    "    \n",
    "    epoch_loss = train_running_loss / counter\n",
    "    epoch_acc = 100. * (train_running_correct / len(trainloader.dataset))\n",
    "    return epoch_loss, epoch_acc\n",
    "# Validation function.\n",
    "def validate(model, testloader, criterion, device):\n",
    "    model.eval()\n",
    "    print('Validation')\n",
    "    valid_running_loss = 0.0\n",
    "    valid_running_correct = 0\n",
    "    counter = 0\n",
    "    \n",
    "    with torch.no_grad():\n",
    "        for i, data in tqdm(enumerate(testloader), total=len(testloader)):\n",
    "            counter += 1\n",
    "            inputs, labels = data['text'], data['label']\n",
    "            inputs = inputs.to(device)\n",
    "            labels = torch.tensor(labels, dtype=torch.float32).to(device)\n",
    "            outputs = model(inputs)\n",
    "            outputs = torch.squeeze(outputs, -1)\n",
    "            loss = criterion(outputs, labels)\n",
    "            valid_running_loss += loss.item()\n",
    "            running_correct = binary_accuracy(\n",
    "                labels, outputs, valid_running_correct\n",
    "            )\n",
    "            valid_running_correct += running_correct\n",
    "        \n",
    "    epoch_loss = valid_running_loss / counter\n",
    "    epoch_acc = 100. * (valid_running_correct / len(testloader.dataset))\n",
    "    return epoch_loss, epoch_acc"
   ]
  },
  {
   "cell_type": "code",
   "execution_count": 95,
   "metadata": {},
   "outputs": [],
   "source": [
    " class TextEmbedding(nn.Module):\n",
    "    def __init__(self, vocab_size, max_len, embed_dim):\n",
    "        super(TextEmbedding, self).__init__()\n",
    "        self.embedding = nn.Embedding(vocab_size, embedding_dim=embed_dim)\n",
    "        self.linear1 = nn.Linear(max_len, 1)\n",
    "        \n",
    "        self.dropout = nn.Dropout(0.5)\n",
    "    def forward(self, x):\n",
    "        x = self.embedding(x)\n",
    "        x = self.dropout(x)\n",
    "        bs, _, _ = x.shape\n",
    "        x = F.adaptive_avg_pool1d(x, 1).reshape(bs, -1)\n",
    "        out = self.linear1(x)\n",
    "        return out   "
   ]
  },
  {
   "cell_type": "code",
   "execution_count": 96,
   "metadata": {},
   "outputs": [],
   "source": [
    "EMBED_DIM = 50\n",
    "model = TextEmbedding(\n",
    "    len(int_mapping)+1, \n",
    "    MAX_LEN,\n",
    "    EMBED_DIM\n",
    ").to(device)"
   ]
  },
  {
   "cell_type": "markdown",
   "metadata": {},
   "source": [
    "### Actually Training the model"
   ]
  },
  {
   "cell_type": "code",
   "execution_count": 97,
   "metadata": {},
   "outputs": [
    {
     "name": "stdout",
     "output_type": "stream",
     "text": [
      "TextEmbedding(\n",
      "  (embedding): Embedding(280618, 50)\n",
      "  (linear1): Linear(in_features=2450, out_features=1, bias=True)\n",
      "  (dropout): Dropout(p=0.5, inplace=False)\n",
      ")\n",
      "14,033,351 total parameters.\n",
      "14,033,351 training parameters.\n",
      "\n"
     ]
    }
   ],
   "source": [
    "print(model)\n",
    "criterion = nn.BCEWithLogitsLoss()\n",
    "optimizer = optim.Adam(\n",
    "    model.parameters(), \n",
    "    lr=0.001,\n",
    ")\n",
    "total_params = sum(p.numel() for p in model.parameters())\n",
    "print(f\"{total_params:,} total parameters.\")\n",
    "total_trainable_params = sum(\n",
    "    p.numel() for p in model.parameters() if p.requires_grad)\n",
    "print(f\"{total_trainable_params:,} training parameters.\\n\")"
   ]
  },
  {
   "cell_type": "code",
   "execution_count": 98,
   "metadata": {},
   "outputs": [
    {
     "name": "stdout",
     "output_type": "stream",
     "text": [
      "Epoch 1 of 50\n",
      "Training........\n"
     ]
    },
    {
     "name": "stderr",
     "output_type": "stream",
     "text": [
      "  0%|                                                                      | 0/37 [00:00<?, ?it/s]/tmp/ipykernel_65913/2891472870.py:11: UserWarning: To copy construct from a tensor, it is recommended to use sourceTensor.clone().detach() or sourceTensor.clone().detach().requires_grad_(True), rather than torch.tensor(sourceTensor).\n",
      "  labels = torch.tensor(labels, dtype=torch.float32).to(device)\n",
      "100%|█████████████████████████████████████████████████████████████| 37/37 [00:04<00:00,  8.13it/s]"
     ]
    },
    {
     "name": "stdout",
     "output_type": "stream",
     "text": [
      "Validation\n"
     ]
    },
    {
     "name": "stderr",
     "output_type": "stream",
     "text": [
      "\n",
      "  0%|                                                                      | 0/13 [00:00<?, ?it/s]/tmp/ipykernel_65913/2891472870.py:40: UserWarning: To copy construct from a tensor, it is recommended to use sourceTensor.clone().detach() or sourceTensor.clone().detach().requires_grad_(True), rather than torch.tensor(sourceTensor).\n",
      "  labels = torch.tensor(labels, dtype=torch.float32).to(device)\n",
      "100%|█████████████████████████████████████████████████████████████| 13/13 [00:00<00:00, 13.52it/s]\n"
     ]
    },
    {
     "name": "stdout",
     "output_type": "stream",
     "text": [
      "Training loss: 0.6971754512271365, training acc: 50.34133333333334\n",
      "Validation loss: 0.6925831849758441, validation acc: 51.632\n",
      "--------------------------------------------------\n",
      "Epoch 2 of 50\n",
      "Training........\n"
     ]
    },
    {
     "name": "stderr",
     "output_type": "stream",
     "text": [
      "100%|█████████████████████████████████████████████████████████████| 37/37 [00:04<00:00,  8.98it/s]"
     ]
    },
    {
     "name": "stdout",
     "output_type": "stream",
     "text": [
      "Validation\n"
     ]
    },
    {
     "name": "stderr",
     "output_type": "stream",
     "text": [
      "\n",
      "100%|█████████████████████████████████████████████████████████████| 13/13 [00:00<00:00, 13.54it/s]\n"
     ]
    },
    {
     "name": "stdout",
     "output_type": "stream",
     "text": [
      "Training loss: 0.6946328491777987, training acc: 51.136\n",
      "Validation loss: 0.692703888966487, validation acc: 51.632\n",
      "--------------------------------------------------\n",
      "Epoch 3 of 50\n",
      "Training........\n"
     ]
    },
    {
     "name": "stderr",
     "output_type": "stream",
     "text": [
      "100%|█████████████████████████████████████████████████████████████| 37/37 [00:04<00:00,  8.76it/s]"
     ]
    },
    {
     "name": "stdout",
     "output_type": "stream",
     "text": [
      "Validation\n"
     ]
    },
    {
     "name": "stderr",
     "output_type": "stream",
     "text": [
      "\n",
      "100%|█████████████████████████████████████████████████████████████| 13/13 [00:01<00:00, 12.94it/s]\n"
     ]
    },
    {
     "name": "stdout",
     "output_type": "stream",
     "text": [
      "Training loss: 0.6920583634763151, training acc: 52.202666666666666\n",
      "Validation loss: 0.6910931834807763, validation acc: 53.888000000000005\n",
      "--------------------------------------------------\n",
      "Epoch 4 of 50\n",
      "Training........\n"
     ]
    },
    {
     "name": "stderr",
     "output_type": "stream",
     "text": [
      "100%|█████████████████████████████████████████████████████████████| 37/37 [00:04<00:00,  9.15it/s]"
     ]
    },
    {
     "name": "stdout",
     "output_type": "stream",
     "text": [
      "Validation\n"
     ]
    },
    {
     "name": "stderr",
     "output_type": "stream",
     "text": [
      "\n",
      "100%|█████████████████████████████████████████████████████████████| 13/13 [00:01<00:00, 12.39it/s]\n"
     ]
    },
    {
     "name": "stdout",
     "output_type": "stream",
     "text": [
      "Training loss: 0.6883447073601388, training acc: 53.99466666666667\n",
      "Validation loss: 0.6876389659368075, validation acc: 52.528\n",
      "--------------------------------------------------\n",
      "Epoch 5 of 50\n",
      "Training........\n"
     ]
    },
    {
     "name": "stderr",
     "output_type": "stream",
     "text": [
      "100%|█████████████████████████████████████████████████████████████| 37/37 [00:04<00:00,  9.16it/s]"
     ]
    },
    {
     "name": "stdout",
     "output_type": "stream",
     "text": [
      "Validation\n"
     ]
    },
    {
     "name": "stderr",
     "output_type": "stream",
     "text": [
      "\n",
      "100%|█████████████████████████████████████████████████████████████| 13/13 [00:01<00:00, 12.80it/s]\n"
     ]
    },
    {
     "name": "stdout",
     "output_type": "stream",
     "text": [
      "Training loss: 0.6823924828220058, training acc: 56.250666666666675\n",
      "Validation loss: 0.6786368351716262, validation acc: 55.296\n",
      "--------------------------------------------------\n",
      "Epoch 6 of 50\n",
      "Training........\n"
     ]
    },
    {
     "name": "stderr",
     "output_type": "stream",
     "text": [
      "100%|█████████████████████████████████████████████████████████████| 37/37 [00:04<00:00,  8.91it/s]"
     ]
    },
    {
     "name": "stdout",
     "output_type": "stream",
     "text": [
      "Validation\n"
     ]
    },
    {
     "name": "stderr",
     "output_type": "stream",
     "text": [
      "\n",
      "100%|█████████████████████████████████████████████████████████████| 13/13 [00:00<00:00, 13.73it/s]\n"
     ]
    },
    {
     "name": "stdout",
     "output_type": "stream",
     "text": [
      "Training loss: 0.6684939667985246, training acc: 60.848\n",
      "Validation loss: 0.660184057859274, validation acc: 63.983999999999995\n",
      "--------------------------------------------------\n",
      "Epoch 7 of 50\n",
      "Training........\n"
     ]
    },
    {
     "name": "stderr",
     "output_type": "stream",
     "text": [
      "100%|█████████████████████████████████████████████████████████████| 37/37 [00:04<00:00,  9.01it/s]"
     ]
    },
    {
     "name": "stdout",
     "output_type": "stream",
     "text": [
      "Validation\n"
     ]
    },
    {
     "name": "stderr",
     "output_type": "stream",
     "text": [
      "\n",
      "100%|█████████████████████████████████████████████████████████████| 13/13 [00:00<00:00, 13.26it/s]\n"
     ]
    },
    {
     "name": "stdout",
     "output_type": "stream",
     "text": [
      "Training loss: 0.641685290916546, training acc: 66.672\n",
      "Validation loss: 0.6314420241575974, validation acc: 70.48\n",
      "--------------------------------------------------\n",
      "Epoch 8 of 50\n",
      "Training........\n"
     ]
    },
    {
     "name": "stderr",
     "output_type": "stream",
     "text": [
      "100%|█████████████████████████████████████████████████████████████| 37/37 [00:03<00:00,  9.44it/s]"
     ]
    },
    {
     "name": "stdout",
     "output_type": "stream",
     "text": [
      "Validation\n"
     ]
    },
    {
     "name": "stderr",
     "output_type": "stream",
     "text": [
      "\n",
      "100%|█████████████████████████████████████████████████████████████| 13/13 [00:00<00:00, 13.37it/s]\n"
     ]
    },
    {
     "name": "stdout",
     "output_type": "stream",
     "text": [
      "Training loss: 0.6061335834296974, training acc: 70.98133333333332\n",
      "Validation loss: 0.5920733075875503, validation acc: 73.776\n",
      "--------------------------------------------------\n",
      "Epoch 9 of 50\n",
      "Training........\n"
     ]
    },
    {
     "name": "stderr",
     "output_type": "stream",
     "text": [
      "100%|█████████████████████████████████████████████████████████████| 37/37 [00:03<00:00,  9.38it/s]"
     ]
    },
    {
     "name": "stdout",
     "output_type": "stream",
     "text": [
      "Validation\n"
     ]
    },
    {
     "name": "stderr",
     "output_type": "stream",
     "text": [
      "\n",
      "100%|█████████████████████████████████████████████████████████████| 13/13 [00:01<00:00, 11.37it/s]\n"
     ]
    },
    {
     "name": "stdout",
     "output_type": "stream",
     "text": [
      "Training loss: 0.5633737412658898, training acc: 74.34666666666668\n",
      "Validation loss: 0.5483204218057486, validation acc: 76.4\n",
      "--------------------------------------------------\n",
      "Epoch 10 of 50\n",
      "Training........\n"
     ]
    },
    {
     "name": "stderr",
     "output_type": "stream",
     "text": [
      "100%|█████████████████████████████████████████████████████████████| 37/37 [00:04<00:00,  8.87it/s]"
     ]
    },
    {
     "name": "stdout",
     "output_type": "stream",
     "text": [
      "Validation\n"
     ]
    },
    {
     "name": "stderr",
     "output_type": "stream",
     "text": [
      "\n",
      "100%|█████████████████████████████████████████████████████████████| 13/13 [00:00<00:00, 13.64it/s]\n"
     ]
    },
    {
     "name": "stdout",
     "output_type": "stream",
     "text": [
      "Training loss: 0.5201743180687363, training acc: 77.312\n",
      "Validation loss: 0.5100624286211454, validation acc: 78.256\n",
      "--------------------------------------------------\n",
      "Epoch 11 of 50\n",
      "Training........\n"
     ]
    },
    {
     "name": "stderr",
     "output_type": "stream",
     "text": [
      "100%|█████████████████████████████████████████████████████████████| 37/37 [00:04<00:00,  9.08it/s]"
     ]
    },
    {
     "name": "stdout",
     "output_type": "stream",
     "text": [
      "Validation\n"
     ]
    },
    {
     "name": "stderr",
     "output_type": "stream",
     "text": [
      "\n",
      "100%|█████████████████████████████████████████████████████████████| 13/13 [00:00<00:00, 13.66it/s]\n"
     ]
    },
    {
     "name": "stdout",
     "output_type": "stream",
     "text": [
      "Training loss: 0.4822179022673014, training acc: 79.48266666666667\n",
      "Validation loss: 0.478204417687196, validation acc: 80.11200000000001\n",
      "--------------------------------------------------\n",
      "Epoch 12 of 50\n",
      "Training........\n"
     ]
    },
    {
     "name": "stderr",
     "output_type": "stream",
     "text": [
      "100%|█████████████████████████████████████████████████████████████| 37/37 [00:03<00:00,  9.44it/s]"
     ]
    },
    {
     "name": "stdout",
     "output_type": "stream",
     "text": [
      "Validation\n"
     ]
    },
    {
     "name": "stderr",
     "output_type": "stream",
     "text": [
      "\n",
      "100%|█████████████████████████████████████████████████████████████| 13/13 [00:00<00:00, 13.31it/s]\n"
     ]
    },
    {
     "name": "stdout",
     "output_type": "stream",
     "text": [
      "Training loss: 0.4503240657819284, training acc: 81.08266666666667\n",
      "Validation loss: 0.4510009197088388, validation acc: 81.328\n",
      "--------------------------------------------------\n",
      "Epoch 13 of 50\n",
      "Training........\n"
     ]
    },
    {
     "name": "stderr",
     "output_type": "stream",
     "text": [
      "100%|█████████████████████████████████████████████████████████████| 37/37 [00:03<00:00,  9.44it/s]"
     ]
    },
    {
     "name": "stdout",
     "output_type": "stream",
     "text": [
      "Validation\n"
     ]
    },
    {
     "name": "stderr",
     "output_type": "stream",
     "text": [
      "\n",
      "100%|█████████████████████████████████████████████████████████████| 13/13 [00:00<00:00, 13.46it/s]\n"
     ]
    },
    {
     "name": "stdout",
     "output_type": "stream",
     "text": [
      "Training loss: 0.42427539019971283, training acc: 82.37333333333333\n",
      "Validation loss: 0.4284611138013693, validation acc: 82.368\n",
      "--------------------------------------------------\n",
      "Epoch 14 of 50\n",
      "Training........\n"
     ]
    },
    {
     "name": "stderr",
     "output_type": "stream",
     "text": [
      "100%|█████████████████████████████████████████████████████████████| 37/37 [00:04<00:00,  9.09it/s]"
     ]
    },
    {
     "name": "stdout",
     "output_type": "stream",
     "text": [
      "Validation\n"
     ]
    },
    {
     "name": "stderr",
     "output_type": "stream",
     "text": [
      "\n",
      "100%|█████████████████████████████████████████████████████████████| 13/13 [00:01<00:00, 10.84it/s]\n"
     ]
    },
    {
     "name": "stdout",
     "output_type": "stream",
     "text": [
      "Training loss: 0.39865417093844024, training acc: 83.408\n",
      "Validation loss: 0.4087434663222386, validation acc: 83.232\n",
      "--------------------------------------------------\n",
      "Epoch 15 of 50\n",
      "Training........\n"
     ]
    },
    {
     "name": "stderr",
     "output_type": "stream",
     "text": [
      "100%|█████████████████████████████████████████████████████████████| 37/37 [00:03<00:00,  9.47it/s]"
     ]
    },
    {
     "name": "stdout",
     "output_type": "stream",
     "text": [
      "Validation\n"
     ]
    },
    {
     "name": "stderr",
     "output_type": "stream",
     "text": [
      "\n",
      "100%|█████████████████████████████████████████████████████████████| 13/13 [00:00<00:00, 13.93it/s]\n"
     ]
    },
    {
     "name": "stdout",
     "output_type": "stream",
     "text": [
      "Training loss: 0.381512384156923, training acc: 84.17066666666668\n",
      "Validation loss: 0.392691616828625, validation acc: 83.824\n",
      "--------------------------------------------------\n",
      "Epoch 16 of 50\n",
      "Training........\n"
     ]
    },
    {
     "name": "stderr",
     "output_type": "stream",
     "text": [
      "100%|█████████████████████████████████████████████████████████████| 37/37 [00:03<00:00,  9.44it/s]"
     ]
    },
    {
     "name": "stdout",
     "output_type": "stream",
     "text": [
      "Validation\n"
     ]
    },
    {
     "name": "stderr",
     "output_type": "stream",
     "text": [
      "\n",
      "100%|█████████████████████████████████████████████████████████████| 13/13 [00:00<00:00, 13.92it/s]\n"
     ]
    },
    {
     "name": "stdout",
     "output_type": "stream",
     "text": [
      "Training loss: 0.3609704488032573, training acc: 85.12533333333333\n",
      "Validation loss: 0.37935539392324596, validation acc: 84.208\n",
      "--------------------------------------------------\n",
      "Epoch 17 of 50\n",
      "Training........\n"
     ]
    },
    {
     "name": "stderr",
     "output_type": "stream",
     "text": [
      "100%|█████████████████████████████████████████████████████████████| 37/37 [00:03<00:00,  9.47it/s]"
     ]
    },
    {
     "name": "stdout",
     "output_type": "stream",
     "text": [
      "Validation\n"
     ]
    },
    {
     "name": "stderr",
     "output_type": "stream",
     "text": [
      "\n",
      "100%|█████████████████████████████████████████████████████████████| 13/13 [00:00<00:00, 13.83it/s]\n"
     ]
    },
    {
     "name": "stdout",
     "output_type": "stream",
     "text": [
      "Training loss: 0.3446130905602429, training acc: 85.88799999999999\n",
      "Validation loss: 0.3671519183195554, validation acc: 84.816\n",
      "--------------------------------------------------\n",
      "Epoch 18 of 50\n",
      "Training........\n"
     ]
    },
    {
     "name": "stderr",
     "output_type": "stream",
     "text": [
      "100%|█████████████████████████████████████████████████████████████| 37/37 [00:03<00:00,  9.47it/s]"
     ]
    },
    {
     "name": "stdout",
     "output_type": "stream",
     "text": [
      "Validation\n"
     ]
    },
    {
     "name": "stderr",
     "output_type": "stream",
     "text": [
      "\n",
      "100%|█████████████████████████████████████████████████████████████| 13/13 [00:00<00:00, 13.76it/s]\n"
     ]
    },
    {
     "name": "stdout",
     "output_type": "stream",
     "text": [
      "Training loss: 0.33018439927616633, training acc: 86.75733333333334\n",
      "Validation loss: 0.35730383487848133, validation acc: 85.232\n",
      "--------------------------------------------------\n",
      "Epoch 19 of 50\n",
      "Training........\n"
     ]
    },
    {
     "name": "stderr",
     "output_type": "stream",
     "text": [
      "100%|█████████████████████████████████████████████████████████████| 37/37 [00:04<00:00,  8.11it/s]"
     ]
    },
    {
     "name": "stdout",
     "output_type": "stream",
     "text": [
      "Validation\n"
     ]
    },
    {
     "name": "stderr",
     "output_type": "stream",
     "text": [
      "\n",
      "100%|█████████████████████████████████████████████████████████████| 13/13 [00:00<00:00, 13.84it/s]\n"
     ]
    },
    {
     "name": "stdout",
     "output_type": "stream",
     "text": [
      "Training loss: 0.3185387004066158, training acc: 87.36533333333333\n",
      "Validation loss: 0.3494497835636139, validation acc: 85.37599999999999\n",
      "--------------------------------------------------\n",
      "Epoch 20 of 50\n",
      "Training........\n"
     ]
    },
    {
     "name": "stderr",
     "output_type": "stream",
     "text": [
      "100%|█████████████████████████████████████████████████████████████| 37/37 [00:03<00:00,  9.54it/s]"
     ]
    },
    {
     "name": "stdout",
     "output_type": "stream",
     "text": [
      "Validation\n"
     ]
    },
    {
     "name": "stderr",
     "output_type": "stream",
     "text": [
      "\n",
      "100%|█████████████████████████████████████████████████████████████| 13/13 [00:00<00:00, 13.79it/s]\n"
     ]
    },
    {
     "name": "stdout",
     "output_type": "stream",
     "text": [
      "Training loss: 0.308582067489624, training acc: 87.62666666666667\n",
      "Validation loss: 0.341267296901116, validation acc: 85.792\n",
      "--------------------------------------------------\n",
      "Epoch 21 of 50\n",
      "Training........\n"
     ]
    },
    {
     "name": "stderr",
     "output_type": "stream",
     "text": [
      "100%|█████████████████████████████████████████████████████████████| 37/37 [00:03<00:00,  9.55it/s]"
     ]
    },
    {
     "name": "stdout",
     "output_type": "stream",
     "text": [
      "Validation\n"
     ]
    },
    {
     "name": "stderr",
     "output_type": "stream",
     "text": [
      "\n",
      "100%|█████████████████████████████████████████████████████████████| 13/13 [00:00<00:00, 13.12it/s]\n"
     ]
    },
    {
     "name": "stdout",
     "output_type": "stream",
     "text": [
      "Training loss: 0.2971411734013944, training acc: 88.29333333333334\n",
      "Validation loss: 0.335135810650312, validation acc: 86.112\n",
      "--------------------------------------------------\n",
      "Epoch 22 of 50\n",
      "Training........\n"
     ]
    },
    {
     "name": "stderr",
     "output_type": "stream",
     "text": [
      "100%|█████████████████████████████████████████████████████████████| 37/37 [00:04<00:00,  9.23it/s]"
     ]
    },
    {
     "name": "stdout",
     "output_type": "stream",
     "text": [
      "Validation\n"
     ]
    },
    {
     "name": "stderr",
     "output_type": "stream",
     "text": [
      "\n",
      "100%|█████████████████████████████████████████████████████████████| 13/13 [00:00<00:00, 13.95it/s]\n"
     ]
    },
    {
     "name": "stdout",
     "output_type": "stream",
     "text": [
      "Training loss: 0.28704881023716283, training acc: 88.848\n",
      "Validation loss: 0.3291157942551833, validation acc: 86.44800000000001\n",
      "--------------------------------------------------\n",
      "Epoch 23 of 50\n",
      "Training........\n"
     ]
    },
    {
     "name": "stderr",
     "output_type": "stream",
     "text": [
      "100%|█████████████████████████████████████████████████████████████| 37/37 [00:03<00:00,  9.41it/s]"
     ]
    },
    {
     "name": "stdout",
     "output_type": "stream",
     "text": [
      "Validation\n"
     ]
    },
    {
     "name": "stderr",
     "output_type": "stream",
     "text": [
      "\n",
      "100%|█████████████████████████████████████████████████████████████| 13/13 [00:00<00:00, 13.75it/s]\n"
     ]
    },
    {
     "name": "stdout",
     "output_type": "stream",
     "text": [
      "Training loss: 0.28036722621402227, training acc: 88.976\n",
      "Validation loss: 0.32395079273443955, validation acc: 86.64\n",
      "--------------------------------------------------\n",
      "Epoch 24 of 50\n",
      "Training........\n"
     ]
    },
    {
     "name": "stderr",
     "output_type": "stream",
     "text": [
      "100%|█████████████████████████████████████████████████████████████| 37/37 [00:03<00:00,  9.48it/s]"
     ]
    },
    {
     "name": "stdout",
     "output_type": "stream",
     "text": [
      "Validation\n"
     ]
    },
    {
     "name": "stderr",
     "output_type": "stream",
     "text": [
      "\n",
      "100%|█████████████████████████████████████████████████████████████| 13/13 [00:01<00:00, 12.71it/s]\n"
     ]
    },
    {
     "name": "stdout",
     "output_type": "stream",
     "text": [
      "Training loss: 0.27146198217933243, training acc: 89.14666666666666\n",
      "Validation loss: 0.3192700674900642, validation acc: 86.688\n",
      "--------------------------------------------------\n",
      "Epoch 25 of 50\n",
      "Training........\n"
     ]
    },
    {
     "name": "stderr",
     "output_type": "stream",
     "text": [
      "100%|█████████████████████████████████████████████████████████████| 37/37 [00:04<00:00,  8.77it/s]"
     ]
    },
    {
     "name": "stdout",
     "output_type": "stream",
     "text": [
      "Validation\n"
     ]
    },
    {
     "name": "stderr",
     "output_type": "stream",
     "text": [
      "\n",
      "100%|█████████████████████████████████████████████████████████████| 13/13 [00:01<00:00, 11.80it/s]\n"
     ]
    },
    {
     "name": "stdout",
     "output_type": "stream",
     "text": [
      "Training loss: 0.2630383211213189, training acc: 89.61066666666667\n",
      "Validation loss: 0.31593991013673633, validation acc: 86.92800000000001\n",
      "--------------------------------------------------\n",
      "Epoch 26 of 50\n",
      "Training........\n"
     ]
    },
    {
     "name": "stderr",
     "output_type": "stream",
     "text": [
      "100%|█████████████████████████████████████████████████████████████| 37/37 [00:04<00:00,  7.46it/s]"
     ]
    },
    {
     "name": "stdout",
     "output_type": "stream",
     "text": [
      "Validation\n"
     ]
    },
    {
     "name": "stderr",
     "output_type": "stream",
     "text": [
      "\n",
      "100%|█████████████████████████████████████████████████████████████| 13/13 [00:01<00:00,  9.97it/s]\n"
     ]
    },
    {
     "name": "stdout",
     "output_type": "stream",
     "text": [
      "Training loss: 0.2579832830139109, training acc: 89.80266666666667\n",
      "Validation loss: 0.31201120752554673, validation acc: 87.072\n",
      "--------------------------------------------------\n",
      "Epoch 27 of 50\n",
      "Training........\n"
     ]
    },
    {
     "name": "stderr",
     "output_type": "stream",
     "text": [
      "100%|█████████████████████████████████████████████████████████████| 37/37 [00:04<00:00,  7.70it/s]"
     ]
    },
    {
     "name": "stdout",
     "output_type": "stream",
     "text": [
      "Validation\n"
     ]
    },
    {
     "name": "stderr",
     "output_type": "stream",
     "text": [
      "\n",
      "100%|█████████████████████████████████████████████████████████████| 13/13 [00:01<00:00, 11.14it/s]\n"
     ]
    },
    {
     "name": "stdout",
     "output_type": "stream",
     "text": [
      "Training loss: 0.25213703553418854, training acc: 90.144\n",
      "Validation loss: 0.30880354459469134, validation acc: 86.896\n",
      "--------------------------------------------------\n",
      "Epoch 28 of 50\n",
      "Training........\n"
     ]
    },
    {
     "name": "stderr",
     "output_type": "stream",
     "text": [
      "100%|█████████████████████████████████████████████████████████████| 37/37 [00:04<00:00,  7.82it/s]"
     ]
    },
    {
     "name": "stdout",
     "output_type": "stream",
     "text": [
      "Validation\n"
     ]
    },
    {
     "name": "stderr",
     "output_type": "stream",
     "text": [
      "\n",
      "100%|█████████████████████████████████████████████████████████████| 13/13 [00:01<00:00, 10.44it/s]\n"
     ]
    },
    {
     "name": "stdout",
     "output_type": "stream",
     "text": [
      "Training loss: 0.2430432877830557, training acc: 90.49066666666667\n",
      "Validation loss: 0.3056671481866103, validation acc: 87.248\n",
      "--------------------------------------------------\n",
      "Epoch 29 of 50\n",
      "Training........\n"
     ]
    },
    {
     "name": "stderr",
     "output_type": "stream",
     "text": [
      "100%|█████████████████████████████████████████████████████████████| 37/37 [00:04<00:00,  7.75it/s]"
     ]
    },
    {
     "name": "stdout",
     "output_type": "stream",
     "text": [
      "Validation\n"
     ]
    },
    {
     "name": "stderr",
     "output_type": "stream",
     "text": [
      "\n",
      "100%|█████████████████████████████████████████████████████████████| 13/13 [00:01<00:00, 11.37it/s]\n"
     ]
    },
    {
     "name": "stdout",
     "output_type": "stream",
     "text": [
      "Training loss: 0.23808520750419512, training acc: 90.82666666666667\n",
      "Validation loss: 0.3029696735051962, validation acc: 87.136\n",
      "--------------------------------------------------\n",
      "Epoch 30 of 50\n",
      "Training........\n"
     ]
    },
    {
     "name": "stderr",
     "output_type": "stream",
     "text": [
      "100%|█████████████████████████████████████████████████████████████| 37/37 [00:04<00:00,  7.71it/s]"
     ]
    },
    {
     "name": "stdout",
     "output_type": "stream",
     "text": [
      "Validation\n"
     ]
    },
    {
     "name": "stderr",
     "output_type": "stream",
     "text": [
      "\n",
      "100%|█████████████████████████████████████████████████████████████| 13/13 [00:01<00:00, 11.37it/s]\n"
     ]
    },
    {
     "name": "stdout",
     "output_type": "stream",
     "text": [
      "Training loss: 0.2336964764305063, training acc: 91.01333333333334\n",
      "Validation loss: 0.30079577977840716, validation acc: 87.248\n",
      "--------------------------------------------------\n",
      "Epoch 31 of 50\n",
      "Training........\n"
     ]
    },
    {
     "name": "stderr",
     "output_type": "stream",
     "text": [
      "100%|█████████████████████████████████████████████████████████████| 37/37 [00:04<00:00,  7.69it/s]"
     ]
    },
    {
     "name": "stdout",
     "output_type": "stream",
     "text": [
      "Validation\n"
     ]
    },
    {
     "name": "stderr",
     "output_type": "stream",
     "text": [
      "\n",
      "100%|█████████████████████████████████████████████████████████████| 13/13 [00:01<00:00, 11.22it/s]\n"
     ]
    },
    {
     "name": "stdout",
     "output_type": "stream",
     "text": [
      "Training loss: 0.2289726790544149, training acc: 91.11466666666666\n",
      "Validation loss: 0.298579073869265, validation acc: 87.408\n",
      "--------------------------------------------------\n",
      "Epoch 32 of 50\n",
      "Training........\n"
     ]
    },
    {
     "name": "stderr",
     "output_type": "stream",
     "text": [
      "100%|█████████████████████████████████████████████████████████████| 37/37 [00:04<00:00,  7.76it/s]"
     ]
    },
    {
     "name": "stdout",
     "output_type": "stream",
     "text": [
      "Validation\n"
     ]
    },
    {
     "name": "stderr",
     "output_type": "stream",
     "text": [
      "\n",
      "100%|█████████████████████████████████████████████████████████████| 13/13 [00:01<00:00, 10.90it/s]\n"
     ]
    },
    {
     "name": "stdout",
     "output_type": "stream",
     "text": [
      "Training loss: 0.22445862881235173, training acc: 91.24799999999999\n",
      "Validation loss: 0.2969231972327599, validation acc: 87.36\n",
      "--------------------------------------------------\n",
      "Epoch 33 of 50\n",
      "Training........\n"
     ]
    },
    {
     "name": "stderr",
     "output_type": "stream",
     "text": [
      "100%|█████████████████████████████████████████████████████████████| 37/37 [00:04<00:00,  7.78it/s]"
     ]
    },
    {
     "name": "stdout",
     "output_type": "stream",
     "text": [
      "Validation\n"
     ]
    },
    {
     "name": "stderr",
     "output_type": "stream",
     "text": [
      "\n",
      "100%|█████████████████████████████████████████████████████████████| 13/13 [00:01<00:00, 11.09it/s]\n"
     ]
    },
    {
     "name": "stdout",
     "output_type": "stream",
     "text": [
      "Training loss: 0.21973957725473353, training acc: 91.45066666666666\n",
      "Validation loss: 0.29499539274435777, validation acc: 87.424\n",
      "--------------------------------------------------\n",
      "Epoch 34 of 50\n",
      "Training........\n"
     ]
    },
    {
     "name": "stderr",
     "output_type": "stream",
     "text": [
      "100%|█████████████████████████████████████████████████████████████| 37/37 [00:04<00:00,  7.69it/s]"
     ]
    },
    {
     "name": "stdout",
     "output_type": "stream",
     "text": [
      "Validation\n"
     ]
    },
    {
     "name": "stderr",
     "output_type": "stream",
     "text": [
      "\n",
      "100%|█████████████████████████████████████████████████████████████| 13/13 [00:01<00:00, 11.31it/s]\n"
     ]
    },
    {
     "name": "stdout",
     "output_type": "stream",
     "text": [
      "Training loss: 0.2142953345099011, training acc: 91.632\n",
      "Validation loss: 0.2935543633424319, validation acc: 87.6\n",
      "--------------------------------------------------\n",
      "Epoch 35 of 50\n",
      "Training........\n"
     ]
    },
    {
     "name": "stderr",
     "output_type": "stream",
     "text": [
      "100%|█████████████████████████████████████████████████████████████| 37/37 [00:04<00:00,  7.79it/s]"
     ]
    },
    {
     "name": "stdout",
     "output_type": "stream",
     "text": [
      "Validation\n"
     ]
    },
    {
     "name": "stderr",
     "output_type": "stream",
     "text": [
      "\n",
      "100%|█████████████████████████████████████████████████████████████| 13/13 [00:01<00:00, 11.55it/s]\n"
     ]
    },
    {
     "name": "stdout",
     "output_type": "stream",
     "text": [
      "Training loss: 0.21124208940042033, training acc: 91.92\n",
      "Validation loss: 0.29225873717894923, validation acc: 87.68\n",
      "--------------------------------------------------\n",
      "Epoch 36 of 50\n",
      "Training........\n"
     ]
    },
    {
     "name": "stderr",
     "output_type": "stream",
     "text": [
      "100%|█████████████████████████████████████████████████████████████| 37/37 [00:04<00:00,  7.46it/s]"
     ]
    },
    {
     "name": "stdout",
     "output_type": "stream",
     "text": [
      "Validation\n"
     ]
    },
    {
     "name": "stderr",
     "output_type": "stream",
     "text": [
      "\n",
      "100%|█████████████████████████████████████████████████████████████| 13/13 [00:01<00:00, 11.19it/s]\n"
     ]
    },
    {
     "name": "stdout",
     "output_type": "stream",
     "text": [
      "Training loss: 0.20243493447432648, training acc: 92.4\n",
      "Validation loss: 0.29101309868005604, validation acc: 87.712\n",
      "--------------------------------------------------\n",
      "Epoch 37 of 50\n",
      "Training........\n"
     ]
    },
    {
     "name": "stderr",
     "output_type": "stream",
     "text": [
      "100%|█████████████████████████████████████████████████████████████| 37/37 [00:04<00:00,  7.70it/s]"
     ]
    },
    {
     "name": "stdout",
     "output_type": "stream",
     "text": [
      "Validation\n"
     ]
    },
    {
     "name": "stderr",
     "output_type": "stream",
     "text": [
      "\n",
      "100%|█████████████████████████████████████████████████████████████| 13/13 [00:01<00:00, 10.93it/s]\n"
     ]
    },
    {
     "name": "stdout",
     "output_type": "stream",
     "text": [
      "Training loss: 0.20210852051103437, training acc: 92.31466666666667\n",
      "Validation loss: 0.2902596569978274, validation acc: 87.872\n",
      "--------------------------------------------------\n",
      "Epoch 38 of 50\n",
      "Training........\n"
     ]
    },
    {
     "name": "stderr",
     "output_type": "stream",
     "text": [
      "100%|█████████████████████████████████████████████████████████████| 37/37 [00:04<00:00,  7.78it/s]"
     ]
    },
    {
     "name": "stdout",
     "output_type": "stream",
     "text": [
      "Validation\n"
     ]
    },
    {
     "name": "stderr",
     "output_type": "stream",
     "text": [
      "\n",
      "100%|█████████████████████████████████████████████████████████████| 13/13 [00:01<00:00, 11.63it/s]\n"
     ]
    },
    {
     "name": "stdout",
     "output_type": "stream",
     "text": [
      "Training loss: 0.19813975893162392, training acc: 92.58133333333333\n",
      "Validation loss: 0.28896288917614865, validation acc: 87.872\n",
      "--------------------------------------------------\n",
      "Epoch 39 of 50\n",
      "Training........\n"
     ]
    },
    {
     "name": "stderr",
     "output_type": "stream",
     "text": [
      "100%|█████████████████████████████████████████████████████████████| 37/37 [00:04<00:00,  7.63it/s]"
     ]
    },
    {
     "name": "stdout",
     "output_type": "stream",
     "text": [
      "Validation\n"
     ]
    },
    {
     "name": "stderr",
     "output_type": "stream",
     "text": [
      "\n",
      "100%|█████████████████████████████████████████████████████████████| 13/13 [00:01<00:00, 11.36it/s]\n"
     ]
    },
    {
     "name": "stdout",
     "output_type": "stream",
     "text": [
      "Training loss: 0.1939967528388307, training acc: 92.66133333333333\n",
      "Validation loss: 0.28811487784752476, validation acc: 87.968\n",
      "--------------------------------------------------\n",
      "Epoch 40 of 50\n",
      "Training........\n"
     ]
    },
    {
     "name": "stderr",
     "output_type": "stream",
     "text": [
      "100%|█████████████████████████████████████████████████████████████| 37/37 [00:04<00:00,  7.81it/s]"
     ]
    },
    {
     "name": "stdout",
     "output_type": "stream",
     "text": [
      "Validation\n"
     ]
    },
    {
     "name": "stderr",
     "output_type": "stream",
     "text": [
      "\n",
      "100%|█████████████████████████████████████████████████████████████| 13/13 [00:01<00:00, 11.62it/s]\n"
     ]
    },
    {
     "name": "stdout",
     "output_type": "stream",
     "text": [
      "Training loss: 0.19200391543878093, training acc: 92.69333333333334\n",
      "Validation loss: 0.28725635088407075, validation acc: 87.856\n",
      "--------------------------------------------------\n",
      "Epoch 41 of 50\n",
      "Training........\n"
     ]
    },
    {
     "name": "stderr",
     "output_type": "stream",
     "text": [
      "100%|█████████████████████████████████████████████████████████████| 37/37 [00:04<00:00,  7.45it/s]"
     ]
    },
    {
     "name": "stdout",
     "output_type": "stream",
     "text": [
      "Validation\n"
     ]
    },
    {
     "name": "stderr",
     "output_type": "stream",
     "text": [
      "\n",
      "100%|█████████████████████████████████████████████████████████████| 13/13 [00:01<00:00, 11.24it/s]\n"
     ]
    },
    {
     "name": "stdout",
     "output_type": "stream",
     "text": [
      "Training loss: 0.18313315832937085, training acc: 93.12533333333334\n",
      "Validation loss: 0.2866937563969539, validation acc: 87.936\n",
      "--------------------------------------------------\n",
      "Epoch 42 of 50\n",
      "Training........\n"
     ]
    },
    {
     "name": "stderr",
     "output_type": "stream",
     "text": [
      "100%|█████████████████████████████████████████████████████████████| 37/37 [00:04<00:00,  7.47it/s]"
     ]
    },
    {
     "name": "stdout",
     "output_type": "stream",
     "text": [
      "Validation\n"
     ]
    },
    {
     "name": "stderr",
     "output_type": "stream",
     "text": [
      "\n",
      "100%|█████████████████████████████████████████████████████████████| 13/13 [00:01<00:00, 10.22it/s]\n"
     ]
    },
    {
     "name": "stdout",
     "output_type": "stream",
     "text": [
      "Training loss: 0.18261135631316416, training acc: 93.22666666666667\n",
      "Validation loss: 0.2861699370237497, validation acc: 88.0\n",
      "--------------------------------------------------\n",
      "Epoch 43 of 50\n",
      "Training........\n"
     ]
    },
    {
     "name": "stderr",
     "output_type": "stream",
     "text": [
      "100%|█████████████████████████████████████████████████████████████| 37/37 [00:04<00:00,  7.82it/s]"
     ]
    },
    {
     "name": "stdout",
     "output_type": "stream",
     "text": [
      "Validation\n"
     ]
    },
    {
     "name": "stderr",
     "output_type": "stream",
     "text": [
      "\n",
      "100%|█████████████████████████████████████████████████████████████| 13/13 [00:01<00:00, 11.25it/s]\n"
     ]
    },
    {
     "name": "stdout",
     "output_type": "stream",
     "text": [
      "Training loss: 0.18148557398770307, training acc: 93.09866666666666\n",
      "Validation loss: 0.28575536150198716, validation acc: 88.096\n",
      "--------------------------------------------------\n",
      "Epoch 44 of 50\n",
      "Training........\n"
     ]
    },
    {
     "name": "stderr",
     "output_type": "stream",
     "text": [
      "100%|█████████████████████████████████████████████████████████████| 37/37 [00:04<00:00,  7.64it/s]"
     ]
    },
    {
     "name": "stdout",
     "output_type": "stream",
     "text": [
      "Validation\n"
     ]
    },
    {
     "name": "stderr",
     "output_type": "stream",
     "text": [
      "\n",
      "100%|█████████████████████████████████████████████████████████████| 13/13 [00:01<00:00, 11.48it/s]\n"
     ]
    },
    {
     "name": "stdout",
     "output_type": "stream",
     "text": [
      "Training loss: 0.1800202670935038, training acc: 93.27466666666666\n",
      "Validation loss: 0.2852632082425631, validation acc: 88.128\n",
      "--------------------------------------------------\n",
      "Epoch 45 of 50\n",
      "Training........\n"
     ]
    },
    {
     "name": "stderr",
     "output_type": "stream",
     "text": [
      "100%|█████████████████████████████████████████████████████████████| 37/37 [00:04<00:00,  7.83it/s]"
     ]
    },
    {
     "name": "stdout",
     "output_type": "stream",
     "text": [
      "Validation\n"
     ]
    },
    {
     "name": "stderr",
     "output_type": "stream",
     "text": [
      "\n",
      "100%|█████████████████████████████████████████████████████████████| 13/13 [00:01<00:00, 10.81it/s]\n"
     ]
    },
    {
     "name": "stdout",
     "output_type": "stream",
     "text": [
      "Training loss: 0.17295608770202947, training acc: 93.73333333333333\n",
      "Validation loss: 0.28552706425006574, validation acc: 87.936\n",
      "--------------------------------------------------\n",
      "Epoch 46 of 50\n",
      "Training........\n"
     ]
    },
    {
     "name": "stderr",
     "output_type": "stream",
     "text": [
      "100%|█████████████████████████████████████████████████████████████| 37/37 [00:04<00:00,  7.85it/s]"
     ]
    },
    {
     "name": "stdout",
     "output_type": "stream",
     "text": [
      "Validation\n"
     ]
    },
    {
     "name": "stderr",
     "output_type": "stream",
     "text": [
      "\n",
      "100%|█████████████████████████████████████████████████████████████| 13/13 [00:01<00:00, 11.31it/s]\n"
     ]
    },
    {
     "name": "stdout",
     "output_type": "stream",
     "text": [
      "Training loss: 0.16790141406896952, training acc: 93.78666666666666\n",
      "Validation loss: 0.28470727572074306, validation acc: 88.096\n",
      "--------------------------------------------------\n",
      "Epoch 47 of 50\n",
      "Training........\n"
     ]
    },
    {
     "name": "stderr",
     "output_type": "stream",
     "text": [
      "100%|█████████████████████████████████████████████████████████████| 37/37 [00:04<00:00,  7.88it/s]"
     ]
    },
    {
     "name": "stdout",
     "output_type": "stream",
     "text": [
      "Validation\n"
     ]
    },
    {
     "name": "stderr",
     "output_type": "stream",
     "text": [
      "\n",
      "100%|█████████████████████████████████████████████████████████████| 13/13 [00:01<00:00, 11.04it/s]\n"
     ]
    },
    {
     "name": "stdout",
     "output_type": "stream",
     "text": [
      "Training loss: 0.16515989883525953, training acc: 93.96266666666668\n",
      "Validation loss: 0.284686994094115, validation acc: 88.064\n",
      "--------------------------------------------------\n",
      "Epoch 48 of 50\n",
      "Training........\n"
     ]
    },
    {
     "name": "stderr",
     "output_type": "stream",
     "text": [
      "100%|█████████████████████████████████████████████████████████████| 37/37 [00:04<00:00,  7.64it/s]"
     ]
    },
    {
     "name": "stdout",
     "output_type": "stream",
     "text": [
      "Validation\n"
     ]
    },
    {
     "name": "stderr",
     "output_type": "stream",
     "text": [
      "\n",
      "100%|█████████████████████████████████████████████████████████████| 13/13 [00:01<00:00, 10.31it/s]\n"
     ]
    },
    {
     "name": "stdout",
     "output_type": "stream",
     "text": [
      "Training loss: 0.16597838498450615, training acc: 93.70666666666668\n",
      "Validation loss: 0.28439922286913943, validation acc: 88.048\n",
      "--------------------------------------------------\n",
      "Epoch 49 of 50\n",
      "Training........\n"
     ]
    },
    {
     "name": "stderr",
     "output_type": "stream",
     "text": [
      "100%|█████████████████████████████████████████████████████████████| 37/37 [00:04<00:00,  7.87it/s]"
     ]
    },
    {
     "name": "stdout",
     "output_type": "stream",
     "text": [
      "Validation\n"
     ]
    },
    {
     "name": "stderr",
     "output_type": "stream",
     "text": [
      "\n",
      "100%|█████████████████████████████████████████████████████████████| 13/13 [00:01<00:00, 11.15it/s]\n"
     ]
    },
    {
     "name": "stdout",
     "output_type": "stream",
     "text": [
      "Training loss: 0.16295965237391963, training acc: 94.128\n",
      "Validation loss: 0.2843192689693891, validation acc: 88.128\n",
      "--------------------------------------------------\n",
      "Epoch 50 of 50\n",
      "Training........\n"
     ]
    },
    {
     "name": "stderr",
     "output_type": "stream",
     "text": [
      "100%|█████████████████████████████████████████████████████████████| 37/37 [00:04<00:00,  7.80it/s]"
     ]
    },
    {
     "name": "stdout",
     "output_type": "stream",
     "text": [
      "Validation\n"
     ]
    },
    {
     "name": "stderr",
     "output_type": "stream",
     "text": [
      "\n",
      "100%|█████████████████████████████████████████████████████████████| 13/13 [00:01<00:00, 11.37it/s]\n"
     ]
    },
    {
     "name": "stdout",
     "output_type": "stream",
     "text": [
      "Training loss: 0.15676193382288958, training acc: 94.17066666666668\n",
      "Validation loss: 0.28474500660712904, validation acc: 88.144\n",
      "--------------------------------------------------\n"
     ]
    }
   ],
   "source": [
    "epochs = 50\n",
    "train_loss, valid_loss = [], []\n",
    "train_acc, valid_acc = [], []\n",
    "for epoch in range(epochs):\n",
    "    print(f\"Epoch {epoch+1} of {epochs}\")\n",
    "    train_epoch_loss, train_epoch_acc = train(model, train_loader, \n",
    "                                            optimizer, criterion, device)\n",
    "    valid_epoch_loss, valid_epoch_acc = validate(model, valid_loader,  \n",
    "                                                criterion, device)\n",
    "    train_loss.append(train_epoch_loss)\n",
    "    valid_loss.append(valid_epoch_loss)\n",
    "    train_acc.append(train_epoch_acc)\n",
    "    valid_acc.append(valid_epoch_acc)\n",
    "    print(f\"Training loss: {train_epoch_loss}, training acc: {train_epoch_acc}\")\n",
    "    print(f\"Validation loss: {valid_epoch_loss}, validation acc: {valid_epoch_acc}\")\n",
    "    # Save model.\n",
    "    torch.save(\n",
    "        model, os.path.join(OUTPUTS_DIR, 'model.pth')\n",
    "    )\n",
    "    print('-'*50)"
   ]
  },
  {
   "cell_type": "code",
   "execution_count": null,
   "metadata": {},
   "outputs": [],
   "source": [
    "def save_plots(train_acc, valid_acc, train_loss, valid_loss):\n",
    "    \"\"\"\n",
    "    Function to save the loss and accuracy plots to disk.\n",
    "    \"\"\"\n",
    "    plt.figure(figsize=(10, 7))\n",
    "    plt.plot(\n",
    "        train_acc, color='blue', linestyle='-', \n",
    "        label='train accuracy'\n",
    "    )\n",
    "    plt.plot(\n",
    "        valid_acc, color='red', linestyle='-', \n",
    "        label='validataion accuracy'\n",
    "    )\n",
    "    plt.xlabel('Epochs')\n",
    "    plt.ylabel('Accuracy')\n",
    "    plt.legend()\n",
    "    plt.savefig(os.path.join(OUTPUTS_DIR, 'accuracy.png'))\n",
    "    plt.show()\n",
    "    # Loss plots.\n",
    "    plt.figure(figsize=(10, 7))\n",
    "    plt.plot(\n",
    "        train_loss, color='blue', linestyle='-', \n",
    "        label='train loss'\n",
    "    )\n",
    "    plt.plot(\n",
    "        valid_loss, color='red', linestyle='-', \n",
    "        label='validataion loss'\n",
    "    )\n",
    "    plt.xlabel('Epochs')\n",
    "    plt.ylabel('Loss')\n",
    "    plt.legend()\n",
    "    plt.savefig(os.path.join(OUTPUTS_DIR, 'loss.png'))\n",
    "    plt.show() \n",
    "save_plots(train_acc, valid_acc, train_loss, valid_loss)"
   ]
  }
 ],
 "metadata": {
  "kernelspec": {
   "display_name": "Python 3 (ipykernel)",
   "language": "python",
   "name": "python3"
  },
  "language_info": {
   "codemirror_mode": {
    "name": "ipython",
    "version": 3
   },
   "file_extension": ".py",
   "mimetype": "text/x-python",
   "name": "python",
   "nbconvert_exporter": "python",
   "pygments_lexer": "ipython3",
   "version": "3.11.5"
  },
  "orig_nbformat": 4
 },
 "nbformat": 4,
 "nbformat_minor": 2
}
